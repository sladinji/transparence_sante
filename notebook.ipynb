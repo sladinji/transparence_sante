{
 "cells": [
  {
   "cell_type": "code",
   "execution_count": 6,
   "metadata": {},
   "outputs": [],
   "source": [
    "# Script used to convert CSV in SQLite DB\n",
    "\n",
    "import pandas as pd\n",
    "from sqlalchemy import create_engine\n",
    "\n",
    "engine = create_engine('sqlite:///transpa_sante.db', echo=False)\n",
    "csvs = ! ls *.csv\n",
    "\n",
    "for csv in csvs:\n",
    "    name = csv.split('_')[1]\n",
    "    for df in pd.read_csv(csv, sep=';', chunksize=10000):\n",
    "        df.to_sql(name, con=engine, if_exists='append')"
   ]
  },
  {
   "cell_type": "code",
   "execution_count": 1,
   "metadata": {},
   "outputs": [],
   "source": [
    "import sqlite3\n",
    "conn = sqlite3.connect('transpa_sante.db')\n",
    "cur = conn.cursor()"
   ]
  },
  {
   "cell_type": "code",
   "execution_count": 3,
   "metadata": {},
   "outputs": [],
   "source": [
    "for table in ('remuneration', 'convention', 'avantage'):\n",
    "    cur.execute(f'CREATE INDEX ix_{table}_denomination_sociale ON {table} (denomination_sociale)')"
   ]
  },
  {
   "cell_type": "code",
   "execution_count": 2,
   "metadata": {},
   "outputs": [],
   "source": [
    "for table in ('remuneration', 'convention', 'avantage'):\n",
    "    cur.execute(f'CREATE INDEX ix_{table}_benef_nom ON {table} (benef_nom)')"
   ]
  }
 ],
 "metadata": {
  "kernelspec": {
   "display_name": "Python 3",
   "language": "python",
   "name": "python3"
  },
  "language_info": {
   "codemirror_mode": {
    "name": "ipython",
    "version": 3
   },
   "file_extension": ".py",
   "mimetype": "text/x-python",
   "name": "python",
   "nbconvert_exporter": "python",
   "pygments_lexer": "ipython3",
   "version": "3.7.6"
  }
 },
 "nbformat": 4,
 "nbformat_minor": 4
}
